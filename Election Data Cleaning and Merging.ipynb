{
 "cells": [
  {
   "cell_type": "markdown",
   "metadata": {},
   "source": [
    "# Cleaning 2016 County-Level Election Data\n",
    "Isaac Kamber\n",
    "\n",
    "Here we will walk through the steps needed to go from a shapefile of United States counties and a CSV of election results for the 21st century to a spatial object containing 2016 county-level election results which can then be written to a shapefile "
   ]
  },
  {
   "cell_type": "markdown",
   "metadata": {},
   "source": [
    "## Import the Required Packages\n",
    "For the purposes of this process, we will need the following packages for the reasons commented beside them:"
   ]
  },
  {
   "cell_type": "code",
   "execution_count": 1,
   "metadata": {},
   "outputs": [
    {
     "name": "stderr",
     "output_type": "stream",
     "text": [
      "Warning message:\n",
      "“package ‘rgdal’ was built under R version 3.4.4”rgdal: version: 1.3-9, (SVN revision 794)\n",
      " Geospatial Data Abstraction Library extensions to R successfully loaded\n",
      " Loaded GDAL runtime: GDAL 2.1.3, released 2017/20/01\n",
      " Path to GDAL shared files: /Users/isaackamber/Library/R/3.4/library/rgdal/gdal\n",
      " GDAL binary built with GEOS: FALSE \n",
      " Loaded PROJ.4 runtime: Rel. 4.9.3, 15 August 2016, [PJ_VERSION: 493]\n",
      " Path to PROJ.4 shared files: /Users/isaackamber/Library/R/3.4/library/rgdal/proj\n",
      " Linking to sp version: 1.3-1 \n",
      "── Attaching packages ─────────────────────────────────────── tidyverse 1.2.1 ──\n",
      "✔ ggplot2 3.1.0       ✔ purrr   0.2.4  \n",
      "✔ tibble  2.0.1       ✔ dplyr   0.8.0.1\n",
      "✔ tidyr   0.8.1       ✔ stringr 1.3.1  \n",
      "✔ readr   1.1.1       ✔ forcats 0.3.0  \n",
      "Warning message:\n",
      "“package ‘ggplot2’ was built under R version 3.4.4”Warning message:\n",
      "“package ‘tibble’ was built under R version 3.4.4”Warning message:\n",
      "“package ‘dplyr’ was built under R version 3.4.4”── Conflicts ────────────────────────────────────────── tidyverse_conflicts() ──\n",
      "✖ dplyr::filter() masks stats::filter()\n",
      "✖ dplyr::lag()    masks stats::lag()\n",
      "Warning message:\n",
      "“package ‘tmap’ was built under R version 3.4.4”Warning message:\n",
      "“replacing previous import ‘gdalUtils::gdal_rasterize’ by ‘sf::gdal_rasterize’ when loading ‘mapview’”"
     ]
    }
   ],
   "source": [
    "library(sp) #Working with spatial data\n",
    "library(rgdal) #Working with spatial data\n",
    "library(tidyverse) #Data wrangling and cleaning\n",
    "library(tmap) #Data visualization"
   ]
  },
  {
   "cell_type": "markdown",
   "metadata": {},
   "source": [
    "## Load the Data into our Environment\n",
    "Now that we have set up our environment with the requisite packages, it is time to load our data into our environment. The original datasource for the election results data can be found [here](https://dataverse.harvard.edu/dataset.xhtml?persistentId=doi:10.7910/DVN/VOQCHQ&version=1.0) while the county shapefile can be found [here](https://www.kaggle.com/benhamner/2016-us-election)."
   ]
  },
  {
   "cell_type": "code",
   "execution_count": 2,
   "metadata": {},
   "outputs": [
    {
     "name": "stderr",
     "output_type": "stream",
     "text": [
      "Warning message in readOGR(\"2016-us-election/county_shapefiles\"):\n",
      "“First layer cb_2014_us_county_5m read; multiple layers present in\n",
      "/Users/isaackamber/Desktop/School Stuff/GIS 3/Final Project/2016-us-election/county_shapefiles, check layers with ogrListLayers()”"
     ]
    },
    {
     "name": "stdout",
     "output_type": "stream",
     "text": [
      "OGR data source with driver: ESRI Shapefile \n",
      "Source: \"/Users/isaackamber/Desktop/School Stuff/GIS 3/Final Project/2016-us-election/county_shapefiles\", layer: \"cb_2014_us_county_5m\"\n",
      "with 3233 features\n",
      "It has 9 fields\n",
      "Integer64 fields read as strings:  ALAND AWATER \n"
     ]
    },
    {
     "name": "stderr",
     "output_type": "stream",
     "text": [
      "Warning message in readOGR(\"2016-us-election/county_shapefiles\"):\n",
      "“Z-dimension discarded”"
     ]
    }
   ],
   "source": [
    "election.results <- read.csv(\"countypres_2000-2016.csv\")\n",
    "us.counties <- readOGR(\"2016-us-election/county_shapefiles\")"
   ]
  },
  {
   "cell_type": "markdown",
   "metadata": {},
   "source": [
    "## Examining our Data\n",
    "The data is now loaded into our environment and we can begin examining it. "
   ]
  },
  {
   "cell_type": "code",
   "execution_count": 4,
   "metadata": {},
   "outputs": [
    {
     "name": "stdout",
     "output_type": "stream",
     "text": [
      "Observations: 50,528\n",
      "Variables: 11\n",
      "$ year           <int> 2000, 2000, 2000, 2000, 2000, 2000, 2000, 2000, 2000, …\n",
      "$ state          <fct> Alabama, Alabama, Alabama, Alabama, Alabama, Alabama, …\n",
      "$ state_po       <fct> AL, AL, AL, AL, AL, AL, AL, AL, AL, AL, AL, AL, AL, AL…\n",
      "$ county         <fct> Autauga, Autauga, Autauga, Autauga, Baldwin, Baldwin, …\n",
      "$ FIPS           <int> 1001, 1001, 1001, 1001, 1003, 1003, 1003, 1003, 1005, …\n",
      "$ office         <fct> President, President, President, President, President,…\n",
      "$ candidate      <fct> Al Gore, George W. Bush, Ralph Nader, Other, Al Gore, …\n",
      "$ party          <fct> democrat, republican, green, NA, democrat, republican,…\n",
      "$ candidatevotes <int> 4942, 11993, 160, 113, 13997, 40872, 1033, 578, 5188, …\n",
      "$ totalvotes     <int> 17208, 17208, 17208, 17208, 56480, 56480, 56480, 56480…\n",
      "$ version        <int> 20181011, 20181011, 20181011, 20181011, 20181011, 2018…\n"
     ]
    }
   ],
   "source": [
    "glimpse(election.results)"
   ]
  },
  {
   "cell_type": "code",
   "execution_count": 5,
   "metadata": {},
   "outputs": [
    {
     "name": "stdout",
     "output_type": "stream",
     "text": [
      "Observations: 3,233\n",
      "Variables: 9\n",
      "$ STATEFP  <fct> 01, 13, 19, 40, 42, 40, 31, 29, 32, 12, 05, 48, 49, 31, 42, …\n",
      "$ COUNTYFP <fct> 059, 111, 109, 115, 115, 053, 029, 213, 510, 049, 023, 017, …\n",
      "$ COUNTYNS <fct> 00161555, 00351094, 00465243, 01101845, 01213688, 01101814, …\n",
      "$ AFFGEOID <fct> 0500000US01059, 0500000US13111, 0500000US19109, 0500000US401…\n",
      "$ GEOID    <fct> 01059, 13111, 19109, 40115, 42115, 40053, 31029, 29213, 3251…\n",
      "$ NAME     <fct> Franklin, Fannin, Kossuth, Ottawa, Susquehanna, Grant, Chase…\n",
      "$ LSAD     <fct> 06, 06, 06, 06, 06, 06, 06, 06, 00, 06, 06, 06, 06, 06, 06, …\n",
      "$ ALAND    <fct> 1641580723, 1002370118, 2519332669, 1219467406, 2132881515, …\n",
      "$ AWATER   <fct> 32904833, 13560697, 4154722, 35708892, 22356541, 7021964, 79…\n"
     ]
    }
   ],
   "source": [
    "glimpse(us.counties@data)"
   ]
  },
  {
   "cell_type": "markdown",
   "metadata": {},
   "source": [
    "## Data Cleaning\n",
    "We are first going to focus on the election data. We have more data than we need, as we only want to focus on 2016 for now. We also have the data in an extremely inconvenient format if we want to merge it with the counties shapefile later on. We will now work to remedy these issues. Rather than simply including total vote numbers, we want to examine voting percentages. "
   ]
  },
  {
   "cell_type": "code",
   "execution_count": 6,
   "metadata": {},
   "outputs": [],
   "source": [
    "#Select only 2016 election data\n",
    "election.2016 <- election.results %>%\n",
    "  dplyr::filter(year == 2016)\n",
    "\n",
    "#Recast candidate from factor to string\n",
    "election.2016$candidate <- as.character(election.2016$candidate)\n",
    "\n",
    "#Remove other candidates\n",
    "election.2016.2 <- election.2016 %>% \n",
    "  dplyr::filter(candidate %in% c(\"Hillary Clinton\", \"Donald Trump\"))\n",
    "\n",
    "hillary <- election.2016.2 %>%\n",
    "  filter(candidate == \"Hillary Clinton\") %>% \n",
    "  mutate(pct_dem = candidatevotes / totalvotes)\n",
    "\n",
    "trump <- election.2016.2 %>%\n",
    "  filter(candidate == \"Donald Trump\") %>% \n",
    "  mutate(pct_rep = candidatevotes / totalvotes)"
   ]
  },
  {
   "cell_type": "markdown",
   "metadata": {},
   "source": [
    "Now that we've made some progress, let's examine the data and see whether we are able to merge our nonspatial election data with our spatial county data."
   ]
  },
  {
   "cell_type": "code",
   "execution_count": 7,
   "metadata": {},
   "outputs": [
    {
     "data": {
      "text/html": [
       "<table>\n",
       "<thead><tr><th></th><th scope=col>year</th><th scope=col>state</th><th scope=col>state_po</th><th scope=col>county</th><th scope=col>FIPS</th><th scope=col>office</th><th scope=col>candidate</th><th scope=col>party</th><th scope=col>candidatevotes</th><th scope=col>totalvotes</th><th scope=col>version</th><th scope=col>pct_dem</th></tr></thead>\n",
       "<tbody>\n",
       "\t<tr><th scope=row>3153</th><td>2016             </td><td>Wyoming          </td><td>WY               </td><td>Washakie         </td><td>56043            </td><td>President        </td><td>Hillary Clinton  </td><td>democrat         </td><td> 532             </td><td>3814             </td><td>20181011         </td><td>0.13948610       </td></tr>\n",
       "\t<tr><th scope=row>3154</th><td>2016             </td><td>Wyoming          </td><td>WY               </td><td>Weston           </td><td>56045            </td><td>President        </td><td>Hillary Clinton  </td><td>democrat         </td><td> 299             </td><td>3526             </td><td>20181011         </td><td>0.08479864       </td></tr>\n",
       "\t<tr><th scope=row>3155</th><td>2016             </td><td>Connecticut      </td><td>NA               </td><td>Statewide writein</td><td>   NA            </td><td>President        </td><td>Hillary Clinton  </td><td>democrat         </td><td>  NA             </td><td>  NA             </td><td>20181011         </td><td>        NA       </td></tr>\n",
       "\t<tr><th scope=row>3156</th><td>2016             </td><td>Maine            </td><td>NA               </td><td>Maine UOCAVA     </td><td>   NA            </td><td>President        </td><td>Hillary Clinton  </td><td>democrat         </td><td>3017             </td><td>  NA             </td><td>20181011         </td><td>        NA       </td></tr>\n",
       "\t<tr><th scope=row>3157</th><td>2016             </td><td>Alaska           </td><td>NA               </td><td>District 99      </td><td>   NA            </td><td>President        </td><td>Hillary Clinton  </td><td>democrat         </td><td> 274             </td><td>  NA             </td><td>20181011         </td><td>        NA       </td></tr>\n",
       "\t<tr><th scope=row>3158</th><td>2016             </td><td>Rhode Island     </td><td>NA               </td><td>Federal Precinct </td><td>   NA            </td><td>President        </td><td>Hillary Clinton  </td><td>democrat         </td><td> 637             </td><td>  NA             </td><td>20181011         </td><td>        NA       </td></tr>\n",
       "</tbody>\n",
       "</table>\n"
      ],
      "text/latex": [
       "\\begin{tabular}{r|llllllllllll}\n",
       "  & year & state & state\\_po & county & FIPS & office & candidate & party & candidatevotes & totalvotes & version & pct\\_dem\\\\\n",
       "\\hline\n",
       "\t3153 & 2016              & Wyoming           & WY                & Washakie          & 56043             & President         & Hillary Clinton   & democrat          &  532              & 3814              & 20181011          & 0.13948610       \\\\\n",
       "\t3154 & 2016              & Wyoming           & WY                & Weston            & 56045             & President         & Hillary Clinton   & democrat          &  299              & 3526              & 20181011          & 0.08479864       \\\\\n",
       "\t3155 & 2016              & Connecticut       & NA                & Statewide writein &    NA             & President         & Hillary Clinton   & democrat          &   NA              &   NA              & 20181011          &         NA       \\\\\n",
       "\t3156 & 2016              & Maine             & NA                & Maine UOCAVA      &    NA             & President         & Hillary Clinton   & democrat          & 3017              &   NA              & 20181011          &         NA       \\\\\n",
       "\t3157 & 2016              & Alaska            & NA                & District 99       &    NA             & President         & Hillary Clinton   & democrat          &  274              &   NA              & 20181011          &         NA       \\\\\n",
       "\t3158 & 2016              & Rhode Island      & NA                & Federal Precinct  &    NA             & President         & Hillary Clinton   & democrat          &  637              &   NA              & 20181011          &         NA       \\\\\n",
       "\\end{tabular}\n"
      ],
      "text/markdown": [
       "\n",
       "| <!--/--> | year | state | state_po | county | FIPS | office | candidate | party | candidatevotes | totalvotes | version | pct_dem | \n",
       "|---|---|---|---|---|---|\n",
       "| 3153 | 2016              | Wyoming           | WY                | Washakie          | 56043             | President         | Hillary Clinton   | democrat          |  532              | 3814              | 20181011          | 0.13948610        | \n",
       "| 3154 | 2016              | Wyoming           | WY                | Weston            | 56045             | President         | Hillary Clinton   | democrat          |  299              | 3526              | 20181011          | 0.08479864        | \n",
       "| 3155 | 2016              | Connecticut       | NA                | Statewide writein |    NA             | President         | Hillary Clinton   | democrat          |   NA              |   NA              | 20181011          |         NA        | \n",
       "| 3156 | 2016              | Maine             | NA                | Maine UOCAVA      |    NA             | President         | Hillary Clinton   | democrat          | 3017              |   NA              | 20181011          |         NA        | \n",
       "| 3157 | 2016              | Alaska            | NA                | District 99       |    NA             | President         | Hillary Clinton   | democrat          |  274              |   NA              | 20181011          |         NA        | \n",
       "| 3158 | 2016              | Rhode Island      | NA                | Federal Precinct  |    NA             | President         | Hillary Clinton   | democrat          |  637              |   NA              | 20181011          |         NA        | \n",
       "\n",
       "\n"
      ],
      "text/plain": [
       "     year state        state_po county            FIPS  office   \n",
       "3153 2016 Wyoming      WY       Washakie          56043 President\n",
       "3154 2016 Wyoming      WY       Weston            56045 President\n",
       "3155 2016 Connecticut  NA       Statewide writein    NA President\n",
       "3156 2016 Maine        NA       Maine UOCAVA         NA President\n",
       "3157 2016 Alaska       NA       District 99          NA President\n",
       "3158 2016 Rhode Island NA       Federal Precinct     NA President\n",
       "     candidate       party    candidatevotes totalvotes version  pct_dem   \n",
       "3153 Hillary Clinton democrat  532           3814       20181011 0.13948610\n",
       "3154 Hillary Clinton democrat  299           3526       20181011 0.08479864\n",
       "3155 Hillary Clinton democrat   NA             NA       20181011         NA\n",
       "3156 Hillary Clinton democrat 3017             NA       20181011         NA\n",
       "3157 Hillary Clinton democrat  274             NA       20181011         NA\n",
       "3158 Hillary Clinton democrat  637             NA       20181011         NA"
      ]
     },
     "metadata": {},
     "output_type": "display_data"
    },
    {
     "data": {
      "text/html": [
       "<table>\n",
       "<thead><tr><th></th><th scope=col>year</th><th scope=col>state</th><th scope=col>state_po</th><th scope=col>county</th><th scope=col>FIPS</th><th scope=col>office</th><th scope=col>candidate</th><th scope=col>party</th><th scope=col>candidatevotes</th><th scope=col>totalvotes</th><th scope=col>version</th><th scope=col>pct_rep</th></tr></thead>\n",
       "<tbody>\n",
       "\t<tr><th scope=row>3153</th><td>2016             </td><td>Wyoming          </td><td>WY               </td><td>Washakie         </td><td>56043            </td><td>President        </td><td>Donald Trump     </td><td>republican       </td><td>2911             </td><td>3814             </td><td>20181011         </td><td>0.7632407        </td></tr>\n",
       "\t<tr><th scope=row>3154</th><td>2016             </td><td>Wyoming          </td><td>WY               </td><td>Weston           </td><td>56045            </td><td>President        </td><td>Donald Trump     </td><td>republican       </td><td>3033             </td><td>3526             </td><td>20181011         </td><td>0.8601815        </td></tr>\n",
       "\t<tr><th scope=row>3155</th><td>2016             </td><td>Connecticut      </td><td>NA               </td><td>Statewide writein</td><td>   NA            </td><td>President        </td><td>Donald Trump     </td><td>republican       </td><td>  NA             </td><td>  NA             </td><td>20181011         </td><td>       NA        </td></tr>\n",
       "\t<tr><th scope=row>3156</th><td>2016             </td><td>Maine            </td><td>NA               </td><td>Maine UOCAVA     </td><td>   NA            </td><td>President        </td><td>Donald Trump     </td><td>republican       </td><td> 648             </td><td>  NA             </td><td>20181011         </td><td>       NA        </td></tr>\n",
       "\t<tr><th scope=row>3157</th><td>2016             </td><td>Alaska           </td><td>NA               </td><td>District 99      </td><td>   NA            </td><td>President        </td><td>Donald Trump     </td><td>republican       </td><td>  40             </td><td>  NA             </td><td>20181011         </td><td>       NA        </td></tr>\n",
       "\t<tr><th scope=row>3158</th><td>2016             </td><td>Rhode Island     </td><td>NA               </td><td>Federal Precinct </td><td>   NA            </td><td>President        </td><td>Donald Trump     </td><td>republican       </td><td>  53             </td><td>  NA             </td><td>20181011         </td><td>       NA        </td></tr>\n",
       "</tbody>\n",
       "</table>\n"
      ],
      "text/latex": [
       "\\begin{tabular}{r|llllllllllll}\n",
       "  & year & state & state\\_po & county & FIPS & office & candidate & party & candidatevotes & totalvotes & version & pct\\_rep\\\\\n",
       "\\hline\n",
       "\t3153 & 2016              & Wyoming           & WY                & Washakie          & 56043             & President         & Donald Trump      & republican        & 2911              & 3814              & 20181011          & 0.7632407        \\\\\n",
       "\t3154 & 2016              & Wyoming           & WY                & Weston            & 56045             & President         & Donald Trump      & republican        & 3033              & 3526              & 20181011          & 0.8601815        \\\\\n",
       "\t3155 & 2016              & Connecticut       & NA                & Statewide writein &    NA             & President         & Donald Trump      & republican        &   NA              &   NA              & 20181011          &        NA        \\\\\n",
       "\t3156 & 2016              & Maine             & NA                & Maine UOCAVA      &    NA             & President         & Donald Trump      & republican        &  648              &   NA              & 20181011          &        NA        \\\\\n",
       "\t3157 & 2016              & Alaska            & NA                & District 99       &    NA             & President         & Donald Trump      & republican        &   40              &   NA              & 20181011          &        NA        \\\\\n",
       "\t3158 & 2016              & Rhode Island      & NA                & Federal Precinct  &    NA             & President         & Donald Trump      & republican        &   53              &   NA              & 20181011          &        NA        \\\\\n",
       "\\end{tabular}\n"
      ],
      "text/markdown": [
       "\n",
       "| <!--/--> | year | state | state_po | county | FIPS | office | candidate | party | candidatevotes | totalvotes | version | pct_rep | \n",
       "|---|---|---|---|---|---|\n",
       "| 3153 | 2016              | Wyoming           | WY                | Washakie          | 56043             | President         | Donald Trump      | republican        | 2911              | 3814              | 20181011          | 0.7632407         | \n",
       "| 3154 | 2016              | Wyoming           | WY                | Weston            | 56045             | President         | Donald Trump      | republican        | 3033              | 3526              | 20181011          | 0.8601815         | \n",
       "| 3155 | 2016              | Connecticut       | NA                | Statewide writein |    NA             | President         | Donald Trump      | republican        |   NA              |   NA              | 20181011          |        NA         | \n",
       "| 3156 | 2016              | Maine             | NA                | Maine UOCAVA      |    NA             | President         | Donald Trump      | republican        |  648              |   NA              | 20181011          |        NA         | \n",
       "| 3157 | 2016              | Alaska            | NA                | District 99       |    NA             | President         | Donald Trump      | republican        |   40              |   NA              | 20181011          |        NA         | \n",
       "| 3158 | 2016              | Rhode Island      | NA                | Federal Precinct  |    NA             | President         | Donald Trump      | republican        |   53              |   NA              | 20181011          |        NA         | \n",
       "\n",
       "\n"
      ],
      "text/plain": [
       "     year state        state_po county            FIPS  office    candidate   \n",
       "3153 2016 Wyoming      WY       Washakie          56043 President Donald Trump\n",
       "3154 2016 Wyoming      WY       Weston            56045 President Donald Trump\n",
       "3155 2016 Connecticut  NA       Statewide writein    NA President Donald Trump\n",
       "3156 2016 Maine        NA       Maine UOCAVA         NA President Donald Trump\n",
       "3157 2016 Alaska       NA       District 99          NA President Donald Trump\n",
       "3158 2016 Rhode Island NA       Federal Precinct     NA President Donald Trump\n",
       "     party      candidatevotes totalvotes version  pct_rep  \n",
       "3153 republican 2911           3814       20181011 0.7632407\n",
       "3154 republican 3033           3526       20181011 0.8601815\n",
       "3155 republican   NA             NA       20181011        NA\n",
       "3156 republican  648             NA       20181011        NA\n",
       "3157 republican   40             NA       20181011        NA\n",
       "3158 republican   53             NA       20181011        NA"
      ]
     },
     "metadata": {},
     "output_type": "display_data"
    }
   ],
   "source": [
    "tail(hillary)\n",
    "tail(trump)"
   ]
  },
  {
   "cell_type": "markdown",
   "metadata": {},
   "source": [
    "We can see that the last four rows of both the Hillary and Trump datasets contain missing values. Because these would be complicated to include on our county map, given that there is no FIPS code for these regions, we will opt to remove the four problem entries. "
   ]
  },
  {
   "cell_type": "code",
   "execution_count": 8,
   "metadata": {},
   "outputs": [],
   "source": [
    "### Remove entries with NA FIPS\n",
    "trump <- trump[which(!is.na(trump$FIPS)),]\n",
    "hillary <- hillary[which(!is.na(hillary$FIPS)),]"
   ]
  },
  {
   "cell_type": "markdown",
   "metadata": {},
   "source": [
    "Now that that's done, we appear to be ready to consolidate our data. Let's first extract only the data we need from these datasets. "
   ]
  },
  {
   "cell_type": "code",
   "execution_count": 9,
   "metadata": {},
   "outputs": [
    {
     "name": "stdout",
     "output_type": "stream",
     "text": [
      "Observations: 3,154\n",
      "Variables: 3\n",
      "$ FIPS        <int> 1001, 1003, 1005, 1007, 1009, 1011, 1013, 1015, 1017, 101…\n",
      "$ pct_hillary <dbl> 0.23769671, 0.19385601, 0.46527844, 0.21249575, 0.0842582…\n",
      "$ pct_trump   <dbl> 0.7276659, 0.7654571, 0.5209667, 0.7640322, 0.8933484, 0.…\n"
     ]
    }
   ],
   "source": [
    "final.2016 <- data.frame(FIPS = hillary$FIPS, pct_hillary = hillary$pct_dem, pct_trump = trump$pct_rep)\n",
    "glimpse(final.2016)"
   ]
  },
  {
   "cell_type": "markdown",
   "metadata": {},
   "source": [
    "## Joining the Spatial and Non-Spatial Data\n",
    "Now that we have cleaned our non-spatial data, we are ready to join it to our county shapefile. Let's first restructure the FIPS code on the county shapefile and then merge the data using sp's merge function to preserve the spatial format of the data."
   ]
  },
  {
   "cell_type": "code",
   "execution_count": 10,
   "metadata": {},
   "outputs": [],
   "source": [
    "fips <- as.integer(paste(us.counties@data$STATEFP, us.counties@data$COUNTYFP, sep = \"\"))\n",
    "us.counties$FIPS <- fips\n",
    "\n",
    "county.elections <- sp::merge(us.counties, final.2016, by = \"FIPS\")"
   ]
  },
  {
   "cell_type": "markdown",
   "metadata": {},
   "source": [
    "## Writing a Shapefile\n",
    "We are done! Now we simply have to write our newly created spatial dataset to a shapefile. Visualizations of this datset are not included in this due to the limited plotting capabilities of Jupyter notebook. "
   ]
  },
  {
   "cell_type": "code",
   "execution_count": 21,
   "metadata": {},
   "outputs": [
    {
     "name": "stderr",
     "output_type": "stream",
     "text": [
      "Warning message in writeOGR(county.elections, \".\", \"county_level_election_results_2016\", :\n",
      "“Field names abbreviated for ESRI Shapefile driver”"
     ]
    }
   ],
   "source": [
    "writeOGR(county.elections,\".\", \"county_level_election_results_2016\", driver = \"ESRI Shapefile\")"
   ]
  }
 ],
 "metadata": {
  "kernelspec": {
   "display_name": "R",
   "language": "R",
   "name": "ir"
  },
  "language_info": {
   "codemirror_mode": "r",
   "file_extension": ".r",
   "mimetype": "text/x-r-source",
   "name": "R",
   "pygments_lexer": "r",
   "version": "3.4.3"
  }
 },
 "nbformat": 4,
 "nbformat_minor": 2
}
